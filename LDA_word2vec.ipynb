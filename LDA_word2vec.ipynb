{
 "cells": [
  {
   "cell_type": "code",
   "execution_count": 68,
   "metadata": {},
   "outputs": [],
   "source": [
    "import numpy as np # linear algebra\n",
    "import pandas as pd # data processing, CSV file I/O (e.g. pd.read_csv)\n",
    "from sklearn.cross_validation import train_test_split\n",
    "from sklearn import preprocessing\n",
    "Encode = preprocessing.LabelEncoder()\n",
    "from sklearn.feature_extraction.text import CountVectorizer\n",
    "from sklearn.feature_extraction.text import TfidfTransformer\n",
    "from sklearn.pipeline import Pipeline,make_union\n",
    "from sklearn import metrics\n",
    "import pandas as pd\n",
    "import numpy as np\n",
    "from collections import Counter\n",
    "import re\n",
    "import nltk\n",
    "from gensim.corpora import Dictionary\n",
    "from sklearn.preprocessing import LabelEncoder\n",
    "from gensim.models.ldamulticore import LdaMulticore\n",
    "from gensim.models.word2vec import Word2Vec\n",
    "from sklearn.ensemble import RandomForestClassifier, AdaBoostClassifier\n",
    "from sklearn.linear_model import LogisticRegression\n",
    "from sklearn.model_selection import GridSearchCV\n",
    "from IPython.display import display\n",
    "import seaborn as sns\n",
    "import matplotlib.pyplot as plt\n",
    "import matplotlib.image as mpimg\n",
    "import base64\n",
    "import io\n",
    "from sklearn.neighbors import KNeighborsClassifier\n",
    "from sklearn.svm import SVC, NuSVC\n",
    "from sklearn.tree import DecisionTreeClassifier\n",
    "from sklearn.ensemble import RandomForestClassifier, AdaBoostClassifier\n",
    "from sklearn.naive_bayes import MultinomialNB\n",
    "from nltk.tokenize import sent_tokenize, word_tokenize\n",
    "import re, nltk\n",
    "from nltk.stem import WordNetLemmatizer\n",
    "from nltk.corpus import stopwords\n",
    "import seaborn as sns\n",
    "import matplotlib.pyplot as plt\n",
    "from nltk.tokenize import TweetTokenizer\n",
    "from subprocess import check_output\n",
    "import warnings\n",
    "warnings.filterwarnings('ignore')\n",
    "%matplotlib inline"
   ]
  },
  {
   "cell_type": "code",
   "execution_count": 69,
   "metadata": {},
   "outputs": [],
   "source": [
    "stop_words = set(stopwords.words('english'))\n",
    "wordnet_lemmatizer = WordNetLemmatizer()"
   ]
  },
  {
   "cell_type": "code",
   "execution_count": 70,
   "metadata": {},
   "outputs": [],
   "source": [
    "def only_letters(raw_text):\n",
    "    #raw_text2=tokenizer.tokenize(replacer.replace(raw_text))\n",
    "    # keep only words\n",
    "    letters_only_text = re.sub(\"[^a-zA-Z]\", \" \", raw_text)\n",
    "\n",
    "    # convert to lower case and split \n",
    "    words = letters_only_text.lower().split()\n",
    "\n",
    "    # remove stopwords\n",
    "    stopword_set = set(stopwords.words(\"english\"))\n",
    "    meaningful_words = [w for w in words if w not in stopword_set]\n",
    "\n",
    "    # join the cleaned words in a list\n",
    "    cleaned_word_list = \" \".join(meaningful_words)\n",
    "    #lemmas = [wordnet_lemmatizer.lemmatize(t) for t in meaningful_words]\n",
    "\n",
    "    return cleaned_word_list"
   ]
  },
  {
   "cell_type": "code",
   "execution_count": 71,
   "metadata": {},
   "outputs": [],
   "source": [
    "df = pd.read_csv(\"/home/ajadhav/Nostalgic/YoutubeComments.csv\",usecols=['Comments','Nostalgic'],encoding='latin-1')\n",
    "df = df.dropna(subset=['Nostalgic'], how='all')\n",
    "df['Comments'] = df['Comments'].str.replace('\\d+', '')"
   ]
  },
  {
   "cell_type": "code",
   "execution_count": 72,
   "metadata": {},
   "outputs": [
    {
     "data": {
      "text/html": [
       "<div>\n",
       "<style>\n",
       "    .dataframe thead tr:only-child th {\n",
       "        text-align: right;\n",
       "    }\n",
       "\n",
       "    .dataframe thead th {\n",
       "        text-align: left;\n",
       "    }\n",
       "\n",
       "    .dataframe tbody tr th {\n",
       "        vertical-align: top;\n",
       "    }\n",
       "</style>\n",
       "<table border=\"1\" class=\"dataframe\">\n",
       "  <thead>\n",
       "    <tr style=\"text-align: right;\">\n",
       "      <th></th>\n",
       "      <th>Comments</th>\n",
       "      <th>Nostalgic</th>\n",
       "    </tr>\n",
       "  </thead>\n",
       "  <tbody>\n",
       "    <tr>\n",
       "      <th>0</th>\n",
       "      <td>.One of the many reasons I keep coming back to...</td>\n",
       "      <td>Yes</td>\n",
       "    </tr>\n",
       "    <tr>\n",
       "      <th>1</th>\n",
       "      <td>.Best song ever made</td>\n",
       "      <td>No</td>\n",
       "    </tr>\n",
       "    <tr>\n",
       "      <th>2</th>\n",
       "      <td>.quite possibly the grooviest chick i've ever ...</td>\n",
       "      <td>No</td>\n",
       "    </tr>\n",
       "    <tr>\n",
       "      <th>3</th>\n",
       "      <td>.If only had a timemachine get the hell out th...</td>\n",
       "      <td>Yes</td>\n",
       "    </tr>\n",
       "    <tr>\n",
       "      <th>4</th>\n",
       "      <td>.I wish I could time machine my head between t...</td>\n",
       "      <td>Yes</td>\n",
       "    </tr>\n",
       "  </tbody>\n",
       "</table>\n",
       "</div>"
      ],
      "text/plain": [
       "                                            Comments Nostalgic\n",
       "0  .One of the many reasons I keep coming back to...       Yes\n",
       "1                               .Best song ever made        No\n",
       "2  .quite possibly the grooviest chick i've ever ...        No\n",
       "3  .If only had a timemachine get the hell out th...       Yes\n",
       "4  .I wish I could time machine my head between t...       Yes"
      ]
     },
     "execution_count": 72,
     "metadata": {},
     "output_type": "execute_result"
    }
   ],
   "source": [
    "df.head()"
   ]
  },
  {
   "cell_type": "code",
   "execution_count": 73,
   "metadata": {},
   "outputs": [],
   "source": [
    "df['only_letter'] = df.Comments.apply(only_letters)"
   ]
  },
  {
   "cell_type": "code",
   "execution_count": 74,
   "metadata": {},
   "outputs": [
    {
     "data": {
      "image/png": "[encoded data removed]",
      "text/plain": [
       "<matplotlib.figure.Figure at 0x7f1249da1438>"
      ]
     },
     "metadata": {},
     "output_type": "display_data"
    }
   ],
   "source": [
    "fig, ax = plt.subplots(1,1,figsize=(20,15))\n",
    "\n",
    "author_vc = df.Nostalgic.value_counts()\n",
    "\n",
    "ax.bar(range(2), author_vc)\n",
    "ax.set_xticks(range(2))\n",
    "ax.set_xticklabels(author_vc.index, fontsize=16)\n",
    "\n",
    "for rect, c, value in zip(ax.patches, ['b', 'r'], author_vc.values):\n",
    "    rect.set_color(c)\n",
    "    height = rect.get_height()\n",
    "    width = rect.get_width()\n",
    "    x_loc = rect.get_x()\n",
    "    ax.text(x_loc + width/2, 0.9*height, value, ha='center', va='center', fontsize=18, color='white')"
   ]
  },
  {
   "cell_type": "code",
   "execution_count": 75,
   "metadata": {},
   "outputs": [
    {
     "name": "stdout",
     "output_type": "stream",
     "text": [
      "The average number of words in a document is: 21.865384615384617.\n",
      "The minimum number of words in a document is: 2.\n",
      "The maximum number of words in a document is: 105.\n"
     ]
    }
   ],
   "source": [
    "document_lengths = np.array(list(map(len, df.Comments.str.split(' '))))\n",
    "print(\"The average number of words in a document is: {}.\".format(np.mean(document_lengths)))\n",
    "print(\"The minimum number of words in a document is: {}.\".format(min(document_lengths)))\n",
    "print(\"The maximum number of words in a document is: {}.\".format(max(document_lengths)))"
   ]
  },
  {
   "cell_type": "code",
   "execution_count": 76,
   "metadata": {},
   "outputs": [
    {
     "data": {
      "image/png": "[encoded data removed]",
      "text/plain": [
       "<matplotlib.figure.Figure at 0x7f12480817b8>"
      ]
     },
     "metadata": {},
     "output_type": "display_data"
    }
   ],
   "source": [
    "fig, ax = plt.subplots(figsize=(15,6))\n",
    "\n",
    "ax.set_title(\"Distribution of number of words\", fontsize=16)\n",
    "ax.set_xlabel(\"Number of words\")\n",
    "sns.distplot(document_lengths, bins=50, ax=ax);"
   ]
  },
  {
   "cell_type": "code",
   "execution_count": 77,
   "metadata": {},
   "outputs": [
    {
     "name": "stdout",
     "output_type": "stream",
     "text": [
      "There are 71 documents with tops 10 words.\n"
     ]
    }
   ],
   "source": [
    "print(\"There are {} documents with tops 10 words.\".format(sum(document_lengths <= 10)))"
   ]
  },
  {
   "cell_type": "code",
   "execution_count": 78,
   "metadata": {},
   "outputs": [
    {
     "data": {
      "text/html": [
       "<div>\n",
       "<style>\n",
       "    .dataframe thead tr:only-child th {\n",
       "        text-align: right;\n",
       "    }\n",
       "\n",
       "    .dataframe thead th {\n",
       "        text-align: left;\n",
       "    }\n",
       "\n",
       "    .dataframe tbody tr th {\n",
       "        vertical-align: top;\n",
       "    }\n",
       "</style>\n",
       "<table border=\"1\" class=\"dataframe\">\n",
       "  <thead>\n",
       "    <tr style=\"text-align: right;\">\n",
       "      <th></th>\n",
       "      <th>Comments</th>\n",
       "      <th>Nostalgic</th>\n",
       "      <th>only_letter</th>\n",
       "    </tr>\n",
       "  </thead>\n",
       "  <tbody>\n",
       "    <tr>\n",
       "      <th>1</th>\n",
       "      <td>.Best song ever made</td>\n",
       "      <td>No</td>\n",
       "      <td>best song ever made</td>\n",
       "    </tr>\n",
       "    <tr>\n",
       "      <th>5</th>\n",
       "      <td>.She reminds me of a classmate</td>\n",
       "      <td>No</td>\n",
       "      <td>reminds classmate</td>\n",
       "    </tr>\n",
       "    <tr>\n",
       "      <th>10</th>\n",
       "      <td>.This song reminds me on my father</td>\n",
       "      <td>No</td>\n",
       "      <td>song reminds father</td>\n",
       "    </tr>\n",
       "    <tr>\n",
       "      <th>11</th>\n",
       "      <td>.gives me good memories first love out on the ...</td>\n",
       "      <td>No</td>\n",
       "      <td>gives good memories first love streets</td>\n",
       "    </tr>\n",
       "    <tr>\n",
       "      <th>13</th>\n",
       "      <td>.to me the greatest song in music history... :)</td>\n",
       "      <td>No</td>\n",
       "      <td>greatest song music history</td>\n",
       "    </tr>\n",
       "  </tbody>\n",
       "</table>\n",
       "</div>"
      ],
      "text/plain": [
       "                                             Comments Nostalgic  \\\n",
       "1                                .Best song ever made        No   \n",
       "5                      .She reminds me of a classmate        No   \n",
       "10                 .This song reminds me on my father        No   \n",
       "11  .gives me good memories first love out on the ...        No   \n",
       "13    .to me the greatest song in music history... :)        No   \n",
       "\n",
       "                               only_letter  \n",
       "1                      best song ever made  \n",
       "5                        reminds classmate  \n",
       "10                     song reminds father  \n",
       "11  gives good memories first love streets  \n",
       "13             greatest song music history  "
      ]
     },
     "execution_count": 78,
     "metadata": {},
     "output_type": "execute_result"
    }
   ],
   "source": [
    "df[document_lengths <= 10].head()"
   ]
  },
  {
   "cell_type": "code",
   "execution_count": 79,
   "metadata": {},
   "outputs": [],
   "source": [
    "def get_good_tokens(sentence):\n",
    "    replaced_punctation = list(map(lambda token: re.sub('[^0-9A-Za-z!?]+', '', token), sentence))\n",
    "    removed_punctation = list(filter(lambda token: token, replaced_punctation))\n",
    "    return removed_punctation"
   ]
  },
  {
   "cell_type": "code",
   "execution_count": 80,
   "metadata": {},
   "outputs": [],
   "source": [
    "# Here we get transform the documents into sentences for the word2vecmodel\n",
    "# we made a function such that later on when we make the submission, we don't need to write duplicate code\n",
    "def w2v_preprocessing(df):\n",
    "    \"\"\" All the preprocessing steps for word2vec are done in this function.\n",
    "    All mutations are done on the dataframe itself. So this function returns\n",
    "    nothing.\n",
    "    \"\"\"\n",
    "    df['Tweet'] = df.Comments.str.lower()\n",
    "    df['document_sentences'] = df.Comments.str.split('.')  # split texts into individual sentences\n",
    "    df['tokenized_sentences'] = list(map(lambda sentences:\n",
    "                                         list(map(nltk.word_tokenize, sentences)),\n",
    "                                         df.document_sentences))  # tokenize sentences\n",
    "    df['tokenized_sentences'] = list(map(lambda sentences:\n",
    "                                         list(map(get_good_tokens, sentences)),\n",
    "                                         df.tokenized_sentences))  # remove unwanted characters\n",
    "    df['tokenized_sentences'] = list(map(lambda sentences:\n",
    "                                         list(filter(lambda lst: lst, sentences)),\n",
    "                                         df.tokenized_sentences))  # remove empty lists\n",
    "\n",
    "w2v_preprocessing(df)"
   ]
  },
  {
   "cell_type": "code",
   "execution_count": 81,
   "metadata": {},
   "outputs": [
    {
     "data": {
      "text/html": [
       "<div>\n",
       "<style>\n",
       "    .dataframe thead tr:only-child th {\n",
       "        text-align: right;\n",
       "    }\n",
       "\n",
       "    .dataframe thead th {\n",
       "        text-align: left;\n",
       "    }\n",
       "\n",
       "    .dataframe tbody tr th {\n",
       "        vertical-align: top;\n",
       "    }\n",
       "</style>\n",
       "<table border=\"1\" class=\"dataframe\">\n",
       "  <thead>\n",
       "    <tr style=\"text-align: right;\">\n",
       "      <th></th>\n",
       "      <th>Comments</th>\n",
       "      <th>Nostalgic</th>\n",
       "      <th>only_letter</th>\n",
       "      <th>Tweet</th>\n",
       "      <th>document_sentences</th>\n",
       "      <th>tokenized_sentences</th>\n",
       "    </tr>\n",
       "  </thead>\n",
       "  <tbody>\n",
       "    <tr>\n",
       "      <th>0</th>\n",
       "      <td>.One of the many reasons I keep coming back to...</td>\n",
       "      <td>Yes</td>\n",
       "      <td>one many reasons keep coming back video remind...</td>\n",
       "      <td>.one of the many reasons i keep coming back to...</td>\n",
       "      <td>[, One of the many reasons I keep coming back ...</td>\n",
       "      <td>[[One, of, the, many, reasons, I, keep, coming...</td>\n",
       "    </tr>\n",
       "    <tr>\n",
       "      <th>1</th>\n",
       "      <td>.Best song ever made</td>\n",
       "      <td>No</td>\n",
       "      <td>best song ever made</td>\n",
       "      <td>.best song ever made</td>\n",
       "      <td>[, Best song ever made]</td>\n",
       "      <td>[[Best, song, ever, made]]</td>\n",
       "    </tr>\n",
       "    <tr>\n",
       "      <th>2</th>\n",
       "      <td>.quite possibly the grooviest chick i've ever ...</td>\n",
       "      <td>No</td>\n",
       "      <td>quite possibly grooviest chick ever seen entir...</td>\n",
       "      <td>.quite possibly the grooviest chick i've ever ...</td>\n",
       "      <td>[, quite possibly the grooviest chick i've eve...</td>\n",
       "      <td>[[quite, possibly, the, grooviest, chick, i, v...</td>\n",
       "    </tr>\n",
       "    <tr>\n",
       "      <th>3</th>\n",
       "      <td>.If only had a timemachine get the hell out th...</td>\n",
       "      <td>Yes</td>\n",
       "      <td>timemachine get hell era go back one grewup</td>\n",
       "      <td>.if only had a timemachine get the hell out th...</td>\n",
       "      <td>[, If only had a timemachine get the hell out ...</td>\n",
       "      <td>[[If, only, had, a, timemachine, get, the, hel...</td>\n",
       "    </tr>\n",
       "    <tr>\n",
       "      <th>4</th>\n",
       "      <td>.I wish I could time machine my head between t...</td>\n",
       "      <td>Yes</td>\n",
       "      <td>wish could time machine head thighs love date</td>\n",
       "      <td>.i wish i could time machine my head between t...</td>\n",
       "      <td>[, I wish I could time machine my head between...</td>\n",
       "      <td>[[I, wish, I, could, time, machine, my, head, ...</td>\n",
       "    </tr>\n",
       "  </tbody>\n",
       "</table>\n",
       "</div>"
      ],
      "text/plain": [
       "                                            Comments Nostalgic  \\\n",
       "0  .One of the many reasons I keep coming back to...       Yes   \n",
       "1                               .Best song ever made        No   \n",
       "2  .quite possibly the grooviest chick i've ever ...        No   \n",
       "3  .If only had a timemachine get the hell out th...       Yes   \n",
       "4  .I wish I could time machine my head between t...       Yes   \n",
       "\n",
       "                                         only_letter  \\\n",
       "0  one many reasons keep coming back video remind...   \n",
       "1                                best song ever made   \n",
       "2  quite possibly grooviest chick ever seen entir...   \n",
       "3        timemachine get hell era go back one grewup   \n",
       "4      wish could time machine head thighs love date   \n",
       "\n",
       "                                               Tweet  \\\n",
       "0  .one of the many reasons i keep coming back to...   \n",
       "1                               .best song ever made   \n",
       "2  .quite possibly the grooviest chick i've ever ...   \n",
       "3  .if only had a timemachine get the hell out th...   \n",
       "4  .i wish i could time machine my head between t...   \n",
       "\n",
       "                                  document_sentences  \\\n",
       "0  [, One of the many reasons I keep coming back ...   \n",
       "1                            [, Best song ever made]   \n",
       "2  [, quite possibly the grooviest chick i've eve...   \n",
       "3  [, If only had a timemachine get the hell out ...   \n",
       "4  [, I wish I could time machine my head between...   \n",
       "\n",
       "                                 tokenized_sentences  \n",
       "0  [[One, of, the, many, reasons, I, keep, coming...  \n",
       "1                         [[Best, song, ever, made]]  \n",
       "2  [[quite, possibly, the, grooviest, chick, i, v...  \n",
       "3  [[If, only, had, a, timemachine, get, the, hel...  \n",
       "4  [[I, wish, I, could, time, machine, my, head, ...  "
      ]
     },
     "execution_count": 81,
     "metadata": {},
     "output_type": "execute_result"
    }
   ],
   "source": [
    "df.head()"
   ]
  },
  {
   "cell_type": "code",
   "execution_count": 82,
   "metadata": {},
   "outputs": [],
   "source": [
    "def lda_get_good_tokens(df):\n",
    "    df['Comments'] = df.Comments.str.lower()\n",
    "    df['tokenized_text'] = list(map(nltk.word_tokenize, df.Comments))\n",
    "    df['tokenized_text'] = list(map(get_good_tokens, df.tokenized_text))\n",
    "\n",
    "lda_get_good_tokens(df)"
   ]
  },
  {
   "cell_type": "code",
   "execution_count": 83,
   "metadata": {},
   "outputs": [
    {
     "data": {
      "text/html": [
       "<div>\n",
       "<style>\n",
       "    .dataframe thead tr:only-child th {\n",
       "        text-align: right;\n",
       "    }\n",
       "\n",
       "    .dataframe thead th {\n",
       "        text-align: left;\n",
       "    }\n",
       "\n",
       "    .dataframe tbody tr th {\n",
       "        vertical-align: top;\n",
       "    }\n",
       "</style>\n",
       "<table border=\"1\" class=\"dataframe\">\n",
       "  <thead>\n",
       "    <tr style=\"text-align: right;\">\n",
       "      <th></th>\n",
       "      <th>Comments</th>\n",
       "      <th>Nostalgic</th>\n",
       "      <th>only_letter</th>\n",
       "      <th>Tweet</th>\n",
       "      <th>document_sentences</th>\n",
       "      <th>tokenized_sentences</th>\n",
       "      <th>tokenized_text</th>\n",
       "    </tr>\n",
       "  </thead>\n",
       "  <tbody>\n",
       "    <tr>\n",
       "      <th>0</th>\n",
       "      <td>.one of the many reasons i keep coming back to...</td>\n",
       "      <td>Yes</td>\n",
       "      <td>one many reasons keep coming back video remind...</td>\n",
       "      <td>.one of the many reasons i keep coming back to...</td>\n",
       "      <td>[, One of the many reasons I keep coming back ...</td>\n",
       "      <td>[[One, of, the, many, reasons, I, keep, coming...</td>\n",
       "      <td>[one, of, the, many, reasons, i, keep, coming,...</td>\n",
       "    </tr>\n",
       "    <tr>\n",
       "      <th>1</th>\n",
       "      <td>.best song ever made</td>\n",
       "      <td>No</td>\n",
       "      <td>best song ever made</td>\n",
       "      <td>.best song ever made</td>\n",
       "      <td>[, Best song ever made]</td>\n",
       "      <td>[[Best, song, ever, made]]</td>\n",
       "      <td>[best, song, ever, made]</td>\n",
       "    </tr>\n",
       "    <tr>\n",
       "      <th>2</th>\n",
       "      <td>.quite possibly the grooviest chick i've ever ...</td>\n",
       "      <td>No</td>\n",
       "      <td>quite possibly grooviest chick ever seen entir...</td>\n",
       "      <td>.quite possibly the grooviest chick i've ever ...</td>\n",
       "      <td>[, quite possibly the grooviest chick i've eve...</td>\n",
       "      <td>[[quite, possibly, the, grooviest, chick, i, v...</td>\n",
       "      <td>[quite, possibly, the, grooviest, chick, i, ve...</td>\n",
       "    </tr>\n",
       "    <tr>\n",
       "      <th>3</th>\n",
       "      <td>.if only had a timemachine get the hell out th...</td>\n",
       "      <td>Yes</td>\n",
       "      <td>timemachine get hell era go back one grewup</td>\n",
       "      <td>.if only had a timemachine get the hell out th...</td>\n",
       "      <td>[, If only had a timemachine get the hell out ...</td>\n",
       "      <td>[[If, only, had, a, timemachine, get, the, hel...</td>\n",
       "      <td>[if, only, had, a, timemachine, get, the, hell...</td>\n",
       "    </tr>\n",
       "    <tr>\n",
       "      <th>4</th>\n",
       "      <td>.i wish i could time machine my head between t...</td>\n",
       "      <td>Yes</td>\n",
       "      <td>wish could time machine head thighs love date</td>\n",
       "      <td>.i wish i could time machine my head between t...</td>\n",
       "      <td>[, I wish I could time machine my head between...</td>\n",
       "      <td>[[I, wish, I, could, time, machine, my, head, ...</td>\n",
       "      <td>[i, wish, i, could, time, machine, my, head, b...</td>\n",
       "    </tr>\n",
       "  </tbody>\n",
       "</table>\n",
       "</div>"
      ],
      "text/plain": [
       "                                            Comments Nostalgic  \\\n",
       "0  .one of the many reasons i keep coming back to...       Yes   \n",
       "1                               .best song ever made        No   \n",
       "2  .quite possibly the grooviest chick i've ever ...        No   \n",
       "3  .if only had a timemachine get the hell out th...       Yes   \n",
       "4  .i wish i could time machine my head between t...       Yes   \n",
       "\n",
       "                                         only_letter  \\\n",
       "0  one many reasons keep coming back video remind...   \n",
       "1                                best song ever made   \n",
       "2  quite possibly grooviest chick ever seen entir...   \n",
       "3        timemachine get hell era go back one grewup   \n",
       "4      wish could time machine head thighs love date   \n",
       "\n",
       "                                               Tweet  \\\n",
       "0  .one of the many reasons i keep coming back to...   \n",
       "1                               .best song ever made   \n",
       "2  .quite possibly the grooviest chick i've ever ...   \n",
       "3  .if only had a timemachine get the hell out th...   \n",
       "4  .i wish i could time machine my head between t...   \n",
       "\n",
       "                                  document_sentences  \\\n",
       "0  [, One of the many reasons I keep coming back ...   \n",
       "1                            [, Best song ever made]   \n",
       "2  [, quite possibly the grooviest chick i've eve...   \n",
       "3  [, If only had a timemachine get the hell out ...   \n",
       "4  [, I wish I could time machine my head between...   \n",
       "\n",
       "                                 tokenized_sentences  \\\n",
       "0  [[One, of, the, many, reasons, I, keep, coming...   \n",
       "1                         [[Best, song, ever, made]]   \n",
       "2  [[quite, possibly, the, grooviest, chick, i, v...   \n",
       "3  [[If, only, had, a, timemachine, get, the, hel...   \n",
       "4  [[I, wish, I, could, time, machine, my, head, ...   \n",
       "\n",
       "                                      tokenized_text  \n",
       "0  [one, of, the, many, reasons, i, keep, coming,...  \n",
       "1                           [best, song, ever, made]  \n",
       "2  [quite, possibly, the, grooviest, chick, i, ve...  \n",
       "3  [if, only, had, a, timemachine, get, the, hell...  \n",
       "4  [i, wish, i, could, time, machine, my, head, b...  "
      ]
     },
     "execution_count": 83,
     "metadata": {},
     "output_type": "execute_result"
    }
   ],
   "source": [
    "df.head()"
   ]
  },
  {
   "cell_type": "code",
   "execution_count": 84,
   "metadata": {},
   "outputs": [],
   "source": [
    "tokenized_only_dict = Counter(np.concatenate(df.tokenized_text.values))\n",
    "\n",
    "tokenized_only_df = pd.DataFrame.from_dict(tokenized_only_dict, orient='index')\n",
    "tokenized_only_df.rename(columns={0: 'count'}, inplace=True)"
   ]
  },
  {
   "cell_type": "code",
   "execution_count": 85,
   "metadata": {},
   "outputs": [],
   "source": [
    "tokenized_only_df.sort_values('count', ascending=False, inplace=True)"
   ]
  },
  {
   "cell_type": "code",
   "execution_count": 86,
   "metadata": {},
   "outputs": [
    {
     "data": {
      "text/html": [
       "<div>\n",
       "<style>\n",
       "    .dataframe thead tr:only-child th {\n",
       "        text-align: right;\n",
       "    }\n",
       "\n",
       "    .dataframe thead th {\n",
       "        text-align: left;\n",
       "    }\n",
       "\n",
       "    .dataframe tbody tr th {\n",
       "        vertical-align: top;\n",
       "    }\n",
       "</style>\n",
       "<table border=\"1\" class=\"dataframe\">\n",
       "  <thead>\n",
       "    <tr style=\"text-align: right;\">\n",
       "      <th></th>\n",
       "      <th>count</th>\n",
       "    </tr>\n",
       "  </thead>\n",
       "  <tbody>\n",
       "    <tr>\n",
       "      <th>the</th>\n",
       "      <td>227</td>\n",
       "    </tr>\n",
       "    <tr>\n",
       "      <th>i</th>\n",
       "      <td>213</td>\n",
       "    </tr>\n",
       "    <tr>\n",
       "      <th>this</th>\n",
       "      <td>187</td>\n",
       "    </tr>\n",
       "    <tr>\n",
       "      <th>and</th>\n",
       "      <td>161</td>\n",
       "    </tr>\n",
       "    <tr>\n",
       "      <th>song</th>\n",
       "      <td>136</td>\n",
       "    </tr>\n",
       "  </tbody>\n",
       "</table>\n",
       "</div>"
      ],
      "text/plain": [
       "      count\n",
       "the     227\n",
       "i       213\n",
       "this    187\n",
       "and     161\n",
       "song    136"
      ]
     },
     "execution_count": 86,
     "metadata": {},
     "output_type": "execute_result"
    }
   ],
   "source": [
    "tokenized_only_df.head()"
   ]
  },
  {
   "cell_type": "code",
   "execution_count": 87,
   "metadata": {},
   "outputs": [
    {
     "data": {
      "image/png": "[encoded data removed]",
      "text/plain": [
       "<matplotlib.figure.Figure at 0x7f1239fca710>"
      ]
     },
     "metadata": {},
     "output_type": "display_data"
    }
   ],
   "source": [
    "# I made a function out of this since I will use it again later on \n",
    "def word_frequency_barplot(df, nr_top_words=50):\n",
    "    \"\"\" df should have a column named count.\n",
    "    \"\"\"\n",
    "    fig, ax = plt.subplots(1,1,figsize=(20,5))\n",
    "\n",
    "    sns.barplot(list(range(nr_top_words)), df['count'].values[:nr_top_words], palette='hls', ax=ax)\n",
    "\n",
    "    ax.set_xticks(list(range(nr_top_words)))\n",
    "    ax.set_xticklabels(df.index[:nr_top_words], fontsize=14, rotation=90)\n",
    "    return ax\n",
    "    \n",
    "ax = word_frequency_barplot(tokenized_only_df)\n",
    "ax.set_title(\"Word Frequencies\", fontsize=16);"
   ]
  },
  {
   "cell_type": "code",
   "execution_count": 88,
   "metadata": {},
   "outputs": [],
   "source": [
    "def remove_stopwords(df):\n",
    "    \"\"\" Removes stopwords based on a known set of stopwords\n",
    "    available in the nltk package. In addition, we include our\n",
    "    made up word in here.\n",
    "    \"\"\"\n",
    "    # Luckily nltk already has a set of stopwords that we can remove from the texts.\n",
    "    stopwords = nltk.corpus.stopwords.words('english')\n",
    "    # we'll add our own special word in here 'qwerty'\n",
    "    our_special_word = ['this']\n",
    "    stopwords.append(our_special_word)\n",
    "\n",
    "    df['stopwords_removed'] = list(map(lambda doc:\n",
    "                                       [word for word in doc if word not in stopwords],\n",
    "                                       df['tokenized_text']))\n",
    "\n",
    "remove_stopwords(df)"
   ]
  },
  {
   "cell_type": "code",
   "execution_count": 89,
   "metadata": {},
   "outputs": [],
   "source": [
    "def stem_words(df):\n",
    "    lemm = nltk.stem.WordNetLemmatizer()\n",
    "    df['lemmatized_text'] = list(map(lambda sentence:\n",
    "                                     list(map(lemm.lemmatize, sentence)),\n",
    "                                     df.stopwords_removed))\n",
    "\n",
    "    p_stemmer = nltk.stem.porter.PorterStemmer()\n",
    "    df['stemmed_text'] = list(map(lambda sentence:\n",
    "                                  list(map(p_stemmer.stem, sentence)),\n",
    "                                  df.lemmatized_text))\n",
    "\n",
    "stem_words(df)"
   ]
  },
  {
   "cell_type": "code",
   "execution_count": 90,
   "metadata": {},
   "outputs": [
    {
     "data": {
      "text/html": [
       "<div>\n",
       "<style>\n",
       "    .dataframe thead tr:only-child th {\n",
       "        text-align: right;\n",
       "    }\n",
       "\n",
       "    .dataframe thead th {\n",
       "        text-align: left;\n",
       "    }\n",
       "\n",
       "    .dataframe tbody tr th {\n",
       "        vertical-align: top;\n",
       "    }\n",
       "</style>\n",
       "<table border=\"1\" class=\"dataframe\">\n",
       "  <thead>\n",
       "    <tr style=\"text-align: right;\">\n",
       "      <th></th>\n",
       "      <th>Comments</th>\n",
       "      <th>Nostalgic</th>\n",
       "      <th>only_letter</th>\n",
       "      <th>Tweet</th>\n",
       "      <th>document_sentences</th>\n",
       "      <th>tokenized_sentences</th>\n",
       "      <th>tokenized_text</th>\n",
       "      <th>stopwords_removed</th>\n",
       "      <th>lemmatized_text</th>\n",
       "      <th>stemmed_text</th>\n",
       "    </tr>\n",
       "  </thead>\n",
       "  <tbody>\n",
       "    <tr>\n",
       "      <th>0</th>\n",
       "      <td>.one of the many reasons i keep coming back to...</td>\n",
       "      <td>Yes</td>\n",
       "      <td>one many reasons keep coming back video remind...</td>\n",
       "      <td>.one of the many reasons i keep coming back to...</td>\n",
       "      <td>[, One of the many reasons I keep coming back ...</td>\n",
       "      <td>[[One, of, the, many, reasons, I, keep, coming...</td>\n",
       "      <td>[one, of, the, many, reasons, i, keep, coming,...</td>\n",
       "      <td>[one, many, reasons, keep, coming, back, video...</td>\n",
       "      <td>[one, many, reason, keep, coming, back, video,...</td>\n",
       "      <td>[one, mani, reason, keep, come, back, video, r...</td>\n",
       "    </tr>\n",
       "    <tr>\n",
       "      <th>1</th>\n",
       "      <td>.best song ever made</td>\n",
       "      <td>No</td>\n",
       "      <td>best song ever made</td>\n",
       "      <td>.best song ever made</td>\n",
       "      <td>[, Best song ever made]</td>\n",
       "      <td>[[Best, song, ever, made]]</td>\n",
       "      <td>[best, song, ever, made]</td>\n",
       "      <td>[best, song, ever, made]</td>\n",
       "      <td>[best, song, ever, made]</td>\n",
       "      <td>[best, song, ever, made]</td>\n",
       "    </tr>\n",
       "    <tr>\n",
       "      <th>2</th>\n",
       "      <td>.quite possibly the grooviest chick i've ever ...</td>\n",
       "      <td>No</td>\n",
       "      <td>quite possibly grooviest chick ever seen entir...</td>\n",
       "      <td>.quite possibly the grooviest chick i've ever ...</td>\n",
       "      <td>[, quite possibly the grooviest chick i've eve...</td>\n",
       "      <td>[[quite, possibly, the, grooviest, chick, i, v...</td>\n",
       "      <td>[quite, possibly, the, grooviest, chick, i, ve...</td>\n",
       "      <td>[quite, possibly, grooviest, chick, ever, seen...</td>\n",
       "      <td>[quite, possibly, grooviest, chick, ever, seen...</td>\n",
       "      <td>[quit, possibl, grooviest, chick, ever, seen, ...</td>\n",
       "    </tr>\n",
       "    <tr>\n",
       "      <th>3</th>\n",
       "      <td>.if only had a timemachine get the hell out th...</td>\n",
       "      <td>Yes</td>\n",
       "      <td>timemachine get hell era go back one grewup</td>\n",
       "      <td>.if only had a timemachine get the hell out th...</td>\n",
       "      <td>[, If only had a timemachine get the hell out ...</td>\n",
       "      <td>[[If, only, had, a, timemachine, get, the, hel...</td>\n",
       "      <td>[if, only, had, a, timemachine, get, the, hell...</td>\n",
       "      <td>[timemachine, get, hell, era, go, back, one, g...</td>\n",
       "      <td>[timemachine, get, hell, era, go, back, one, g...</td>\n",
       "      <td>[timemachin, get, hell, era, go, back, one, gr...</td>\n",
       "    </tr>\n",
       "    <tr>\n",
       "      <th>4</th>\n",
       "      <td>.i wish i could time machine my head between t...</td>\n",
       "      <td>Yes</td>\n",
       "      <td>wish could time machine head thighs love date</td>\n",
       "      <td>.i wish i could time machine my head between t...</td>\n",
       "      <td>[, I wish I could time machine my head between...</td>\n",
       "      <td>[[I, wish, I, could, time, machine, my, head, ...</td>\n",
       "      <td>[i, wish, i, could, time, machine, my, head, b...</td>\n",
       "      <td>[wish, could, time, machine, head, thighs, lov...</td>\n",
       "      <td>[wish, could, time, machine, head, thigh, love...</td>\n",
       "      <td>[wish, could, time, machin, head, thigh, love,...</td>\n",
       "    </tr>\n",
       "  </tbody>\n",
       "</table>\n",
       "</div>"
      ],
      "text/plain": [
       "                                            Comments Nostalgic  \\\n",
       "0  .one of the many reasons i keep coming back to...       Yes   \n",
       "1                               .best song ever made        No   \n",
       "2  .quite possibly the grooviest chick i've ever ...        No   \n",
       "3  .if only had a timemachine get the hell out th...       Yes   \n",
       "4  .i wish i could time machine my head between t...       Yes   \n",
       "\n",
       "                                         only_letter  \\\n",
       "0  one many reasons keep coming back video remind...   \n",
       "1                                best song ever made   \n",
       "2  quite possibly grooviest chick ever seen entir...   \n",
       "3        timemachine get hell era go back one grewup   \n",
       "4      wish could time machine head thighs love date   \n",
       "\n",
       "                                               Tweet  \\\n",
       "0  .one of the many reasons i keep coming back to...   \n",
       "1                               .best song ever made   \n",
       "2  .quite possibly the grooviest chick i've ever ...   \n",
       "3  .if only had a timemachine get the hell out th...   \n",
       "4  .i wish i could time machine my head between t...   \n",
       "\n",
       "                                  document_sentences  \\\n",
       "0  [, One of the many reasons I keep coming back ...   \n",
       "1                            [, Best song ever made]   \n",
       "2  [, quite possibly the grooviest chick i've eve...   \n",
       "3  [, If only had a timemachine get the hell out ...   \n",
       "4  [, I wish I could time machine my head between...   \n",
       "\n",
       "                                 tokenized_sentences  \\\n",
       "0  [[One, of, the, many, reasons, I, keep, coming...   \n",
       "1                         [[Best, song, ever, made]]   \n",
       "2  [[quite, possibly, the, grooviest, chick, i, v...   \n",
       "3  [[If, only, had, a, timemachine, get, the, hel...   \n",
       "4  [[I, wish, I, could, time, machine, my, head, ...   \n",
       "\n",
       "                                      tokenized_text  \\\n",
       "0  [one, of, the, many, reasons, i, keep, coming,...   \n",
       "1                           [best, song, ever, made]   \n",
       "2  [quite, possibly, the, grooviest, chick, i, ve...   \n",
       "3  [if, only, had, a, timemachine, get, the, hell...   \n",
       "4  [i, wish, i, could, time, machine, my, head, b...   \n",
       "\n",
       "                                   stopwords_removed  \\\n",
       "0  [one, many, reasons, keep, coming, back, video...   \n",
       "1                           [best, song, ever, made]   \n",
       "2  [quite, possibly, grooviest, chick, ever, seen...   \n",
       "3  [timemachine, get, hell, era, go, back, one, g...   \n",
       "4  [wish, could, time, machine, head, thighs, lov...   \n",
       "\n",
       "                                     lemmatized_text  \\\n",
       "0  [one, many, reason, keep, coming, back, video,...   \n",
       "1                           [best, song, ever, made]   \n",
       "2  [quite, possibly, grooviest, chick, ever, seen...   \n",
       "3  [timemachine, get, hell, era, go, back, one, g...   \n",
       "4  [wish, could, time, machine, head, thigh, love...   \n",
       "\n",
       "                                        stemmed_text  \n",
       "0  [one, mani, reason, keep, come, back, video, r...  \n",
       "1                           [best, song, ever, made]  \n",
       "2  [quit, possibl, grooviest, chick, ever, seen, ...  \n",
       "3  [timemachin, get, hell, era, go, back, one, gr...  \n",
       "4  [wish, could, time, machin, head, thigh, love,...  "
      ]
     },
     "execution_count": 90,
     "metadata": {},
     "output_type": "execute_result"
    }
   ],
   "source": [
    "df.head()"
   ]
  },
  {
   "cell_type": "code",
   "execution_count": 91,
   "metadata": {},
   "outputs": [
    {
     "name": "stdout",
     "output_type": "stream",
     "text": [
      "Found 918 words.\n"
     ]
    }
   ],
   "source": [
    "dictionary = Dictionary(documents=df.stemmed_text.values)\n",
    "\n",
    "print(\"Found {} words.\".format(len(dictionary.values())))"
   ]
  },
  {
   "cell_type": "code",
   "execution_count": 92,
   "metadata": {},
   "outputs": [
    {
     "name": "stdout",
     "output_type": "stream",
     "text": [
      "Left with 355 words.\n"
     ]
    }
   ],
   "source": [
    "dictionary.filter_extremes(no_above=0.8, no_below=2)\n",
    "\n",
    "dictionary.compactify()  # Reindexes the remaining words after filtering\n",
    "print(\"Left with {} words.\".format(len(dictionary.values())))"
   ]
  },
  {
   "cell_type": "code",
   "execution_count": 93,
   "metadata": {},
   "outputs": [],
   "source": [
    "#Make a BOW for every document\n",
    "def document_to_bow(df):\n",
    "    df['bow'] = list(map(lambda doc: dictionary.doc2bow(doc), df.stemmed_text))\n",
    "    \n",
    "document_to_bow(df)"
   ]
  },
  {
   "cell_type": "code",
   "execution_count": 94,
   "metadata": {},
   "outputs": [
    {
     "data": {
      "text/html": [
       "<div>\n",
       "<style>\n",
       "    .dataframe thead tr:only-child th {\n",
       "        text-align: right;\n",
       "    }\n",
       "\n",
       "    .dataframe thead th {\n",
       "        text-align: left;\n",
       "    }\n",
       "\n",
       "    .dataframe tbody tr th {\n",
       "        vertical-align: top;\n",
       "    }\n",
       "</style>\n",
       "<table border=\"1\" class=\"dataframe\">\n",
       "  <thead>\n",
       "    <tr style=\"text-align: right;\">\n",
       "      <th></th>\n",
       "      <th>Comments</th>\n",
       "      <th>Nostalgic</th>\n",
       "      <th>only_letter</th>\n",
       "      <th>Tweet</th>\n",
       "      <th>document_sentences</th>\n",
       "      <th>tokenized_sentences</th>\n",
       "      <th>tokenized_text</th>\n",
       "      <th>stopwords_removed</th>\n",
       "      <th>lemmatized_text</th>\n",
       "      <th>stemmed_text</th>\n",
       "      <th>bow</th>\n",
       "    </tr>\n",
       "  </thead>\n",
       "  <tbody>\n",
       "    <tr>\n",
       "      <th>0</th>\n",
       "      <td>.one of the many reasons i keep coming back to...</td>\n",
       "      <td>Yes</td>\n",
       "      <td>one many reasons keep coming back video remind...</td>\n",
       "      <td>.one of the many reasons i keep coming back to...</td>\n",
       "      <td>[, One of the many reasons I keep coming back ...</td>\n",
       "      <td>[[One, of, the, many, reasons, I, keep, coming...</td>\n",
       "      <td>[one, of, the, many, reasons, i, keep, coming,...</td>\n",
       "      <td>[one, many, reasons, keep, coming, back, video...</td>\n",
       "      <td>[one, many, reason, keep, coming, back, video,...</td>\n",
       "      <td>[one, mani, reason, keep, come, back, video, r...</td>\n",
       "      <td>[(0, 1), (1, 1), (2, 1), (3, 1), (4, 1), (5, 1...</td>\n",
       "    </tr>\n",
       "    <tr>\n",
       "      <th>1</th>\n",
       "      <td>.best song ever made</td>\n",
       "      <td>No</td>\n",
       "      <td>best song ever made</td>\n",
       "      <td>.best song ever made</td>\n",
       "      <td>[, Best song ever made]</td>\n",
       "      <td>[[Best, song, ever, made]]</td>\n",
       "      <td>[best, song, ever, made]</td>\n",
       "      <td>[best, song, ever, made]</td>\n",
       "      <td>[best, song, ever, made]</td>\n",
       "      <td>[best, song, ever, made]</td>\n",
       "      <td>[(11, 1), (13, 1), (14, 1), (15, 1)]</td>\n",
       "    </tr>\n",
       "    <tr>\n",
       "      <th>2</th>\n",
       "      <td>.quite possibly the grooviest chick i've ever ...</td>\n",
       "      <td>No</td>\n",
       "      <td>quite possibly grooviest chick ever seen entir...</td>\n",
       "      <td>.quite possibly the grooviest chick i've ever ...</td>\n",
       "      <td>[, quite possibly the grooviest chick i've eve...</td>\n",
       "      <td>[[quite, possibly, the, grooviest, chick, i, v...</td>\n",
       "      <td>[quite, possibly, the, grooviest, chick, i, ve...</td>\n",
       "      <td>[quite, possibly, grooviest, chick, ever, seen...</td>\n",
       "      <td>[quite, possibly, grooviest, chick, ever, seen...</td>\n",
       "      <td>[quit, possibl, grooviest, chick, ever, seen, ...</td>\n",
       "      <td>[(14, 1), (16, 1), (17, 1), (18, 1), (19, 1)]</td>\n",
       "    </tr>\n",
       "    <tr>\n",
       "      <th>3</th>\n",
       "      <td>.if only had a timemachine get the hell out th...</td>\n",
       "      <td>Yes</td>\n",
       "      <td>timemachine get hell era go back one grewup</td>\n",
       "      <td>.if only had a timemachine get the hell out th...</td>\n",
       "      <td>[, If only had a timemachine get the hell out ...</td>\n",
       "      <td>[[If, only, had, a, timemachine, get, the, hel...</td>\n",
       "      <td>[if, only, had, a, timemachine, get, the, hell...</td>\n",
       "      <td>[timemachine, get, hell, era, go, back, one, g...</td>\n",
       "      <td>[timemachine, get, hell, era, go, back, one, g...</td>\n",
       "      <td>[timemachin, get, hell, era, go, back, one, gr...</td>\n",
       "      <td>[(0, 1), (4, 1), (20, 1), (21, 1), (22, 1)]</td>\n",
       "    </tr>\n",
       "    <tr>\n",
       "      <th>4</th>\n",
       "      <td>.i wish i could time machine my head between t...</td>\n",
       "      <td>Yes</td>\n",
       "      <td>wish could time machine head thighs love date</td>\n",
       "      <td>.i wish i could time machine my head between t...</td>\n",
       "      <td>[, I wish I could time machine my head between...</td>\n",
       "      <td>[[I, wish, I, could, time, machine, my, head, ...</td>\n",
       "      <td>[i, wish, i, could, time, machine, my, head, b...</td>\n",
       "      <td>[wish, could, time, machine, head, thighs, lov...</td>\n",
       "      <td>[wish, could, time, machine, head, thigh, love...</td>\n",
       "      <td>[wish, could, time, machin, head, thigh, love,...</td>\n",
       "      <td>[(7, 1), (23, 1), (24, 1), (25, 1), (26, 1)]</td>\n",
       "    </tr>\n",
       "  </tbody>\n",
       "</table>\n",
       "</div>"
      ],
      "text/plain": [
       "                                            Comments Nostalgic  \\\n",
       "0  .one of the many reasons i keep coming back to...       Yes   \n",
       "1                               .best song ever made        No   \n",
       "2  .quite possibly the grooviest chick i've ever ...        No   \n",
       "3  .if only had a timemachine get the hell out th...       Yes   \n",
       "4  .i wish i could time machine my head between t...       Yes   \n",
       "\n",
       "                                         only_letter  \\\n",
       "0  one many reasons keep coming back video remind...   \n",
       "1                                best song ever made   \n",
       "2  quite possibly grooviest chick ever seen entir...   \n",
       "3        timemachine get hell era go back one grewup   \n",
       "4      wish could time machine head thighs love date   \n",
       "\n",
       "                                               Tweet  \\\n",
       "0  .one of the many reasons i keep coming back to...   \n",
       "1                               .best song ever made   \n",
       "2  .quite possibly the grooviest chick i've ever ...   \n",
       "3  .if only had a timemachine get the hell out th...   \n",
       "4  .i wish i could time machine my head between t...   \n",
       "\n",
       "                                  document_sentences  \\\n",
       "0  [, One of the many reasons I keep coming back ...   \n",
       "1                            [, Best song ever made]   \n",
       "2  [, quite possibly the grooviest chick i've eve...   \n",
       "3  [, If only had a timemachine get the hell out ...   \n",
       "4  [, I wish I could time machine my head between...   \n",
       "\n",
       "                                 tokenized_sentences  \\\n",
       "0  [[One, of, the, many, reasons, I, keep, coming...   \n",
       "1                         [[Best, song, ever, made]]   \n",
       "2  [[quite, possibly, the, grooviest, chick, i, v...   \n",
       "3  [[If, only, had, a, timemachine, get, the, hel...   \n",
       "4  [[I, wish, I, could, time, machine, my, head, ...   \n",
       "\n",
       "                                      tokenized_text  \\\n",
       "0  [one, of, the, many, reasons, i, keep, coming,...   \n",
       "1                           [best, song, ever, made]   \n",
       "2  [quite, possibly, the, grooviest, chick, i, ve...   \n",
       "3  [if, only, had, a, timemachine, get, the, hell...   \n",
       "4  [i, wish, i, could, time, machine, my, head, b...   \n",
       "\n",
       "                                   stopwords_removed  \\\n",
       "0  [one, many, reasons, keep, coming, back, video...   \n",
       "1                           [best, song, ever, made]   \n",
       "2  [quite, possibly, grooviest, chick, ever, seen...   \n",
       "3  [timemachine, get, hell, era, go, back, one, g...   \n",
       "4  [wish, could, time, machine, head, thighs, lov...   \n",
       "\n",
       "                                     lemmatized_text  \\\n",
       "0  [one, many, reason, keep, coming, back, video,...   \n",
       "1                           [best, song, ever, made]   \n",
       "2  [quite, possibly, grooviest, chick, ever, seen...   \n",
       "3  [timemachine, get, hell, era, go, back, one, g...   \n",
       "4  [wish, could, time, machine, head, thigh, love...   \n",
       "\n",
       "                                        stemmed_text  \\\n",
       "0  [one, mani, reason, keep, come, back, video, r...   \n",
       "1                           [best, song, ever, made]   \n",
       "2  [quit, possibl, grooviest, chick, ever, seen, ...   \n",
       "3  [timemachin, get, hell, era, go, back, one, gr...   \n",
       "4  [wish, could, time, machin, head, thigh, love,...   \n",
       "\n",
       "                                                 bow  \n",
       "0  [(0, 1), (1, 1), (2, 1), (3, 1), (4, 1), (5, 1...  \n",
       "1               [(11, 1), (13, 1), (14, 1), (15, 1)]  \n",
       "2      [(14, 1), (16, 1), (17, 1), (18, 1), (19, 1)]  \n",
       "3        [(0, 1), (4, 1), (20, 1), (21, 1), (22, 1)]  \n",
       "4       [(7, 1), (23, 1), (24, 1), (25, 1), (26, 1)]  "
      ]
     },
     "execution_count": 94,
     "metadata": {},
     "output_type": "execute_result"
    }
   ],
   "source": [
    "df.head()"
   ]
  },
  {
   "cell_type": "code",
   "execution_count": 95,
   "metadata": {},
   "outputs": [],
   "source": [
    "# we make a function such that later on when we make the submission, we don't need to write duplicate code\n",
    "def lda_preprocessing(df):\n",
    "    \"\"\" All the preprocessing steps for LDA are combined in this function.\n",
    "    All mutations are done on the dataframe itself. So this function returns\n",
    "    nothing.\n",
    "    \"\"\"\n",
    "    lda_get_good_tokens(df)\n",
    "    remove_stopwords(df)\n",
    "    stem_words(df)\n",
    "    document_to_bow(df)"
   ]
  },
  {
   "cell_type": "code",
   "execution_count": 96,
   "metadata": {},
   "outputs": [],
   "source": [
    "cleansed_words_df = pd.DataFrame.from_dict(dictionary.token2id, orient='index')\n",
    "cleansed_words_df.rename(columns={0: 'id'}, inplace=True)\n",
    "\n",
    "cleansed_words_df['count'] = list(map(lambda id_: dictionary.dfs.get(id_), cleansed_words_df.id))\n",
    "del cleansed_words_df['id']"
   ]
  },
  {
   "cell_type": "code",
   "execution_count": 97,
   "metadata": {},
   "outputs": [],
   "source": [
    "cleansed_words_df.sort_values('count', ascending=False, inplace=True)"
   ]
  },
  {
   "cell_type": "code",
   "execution_count": 98,
   "metadata": {},
   "outputs": [
    {
     "data": {
      "image/png": "[encoded data removed]",
      "text/plain": [
       "<matplotlib.figure.Figure at 0x7f1239ea4860>"
      ]
     },
     "metadata": {},
     "output_type": "display_data"
    }
   ],
   "source": [
    "ax = word_frequency_barplot(cleansed_words_df)\n",
    "ax.set_title(\"Document Frequencies (Number of documents a word appears in)\", fontsize=16);"
   ]
  },
  {
   "cell_type": "code",
   "execution_count": 99,
   "metadata": {},
   "outputs": [],
   "source": [
    "corpus = df.bow"
   ]
  },
  {
   "cell_type": "code",
   "execution_count": 100,
   "metadata": {},
   "outputs": [
    {
     "name": "stdout",
     "output_type": "stream",
     "text": [
      "CPU times: user 20.8 s, sys: 964 ms, total: 21.8 s\n",
      "Wall time: 21.1 s\n"
     ]
    }
   ],
   "source": [
    "%%time\n",
    "num_topics = 150\n",
    "#A multicore approach to decrease training time\n",
    "LDAmodel = LdaMulticore(corpus=corpus,\n",
    "                        id2word=dictionary,\n",
    "                        num_topics=num_topics,\n",
    "                        workers=4,\n",
    "                        chunksize=4000,\n",
    "                        passes=7,\n",
    "                        alpha='asymmetric')"
   ]
  },
  {
   "cell_type": "code",
   "execution_count": 101,
   "metadata": {},
   "outputs": [],
   "source": [
    "def document_to_lda_features(lda_model, document):\n",
    "    \"\"\" Transforms a bag of words document to features.\n",
    "    It returns the proportion of how much each topic was\n",
    "    present in the document.\n",
    "    \"\"\"\n",
    "    topic_importances = LDAmodel.get_document_topics(document, minimum_probability=0)\n",
    "    topic_importances = np.array(topic_importances)\n",
    "    return topic_importances[:,1]\n",
    "\n",
    "df['lda_features'] = list(map(lambda doc:\n",
    "                                      document_to_lda_features(LDAmodel, doc),\n",
    "                                      df.bow))"
   ]
  },
  {
   "cell_type": "code",
   "execution_count": 102,
   "metadata": {},
   "outputs": [],
   "source": [
    "def get_topic_top_words(lda_model, topic_id, nr_top_words=5):\n",
    "    \"\"\" Returns the top words for topic_id from lda_model.\n",
    "    \"\"\"\n",
    "    id_tuples = lda_model.get_topic_terms(topic_id, topn=nr_top_words)\n",
    "    word_ids = np.array(id_tuples)[:,0]\n",
    "    words = map(lambda id_: lda_model.id2word[id_], word_ids)\n",
    "    return words"
   ]
  },
  {
   "cell_type": "code",
   "execution_count": 103,
   "metadata": {},
   "outputs": [],
   "source": [
    "sentences = []\n",
    "for sentence_group in df.tokenized_sentences:\n",
    "    sentences.extend(sentence_group)"
   ]
  },
  {
   "cell_type": "code",
   "execution_count": 104,
   "metadata": {},
   "outputs": [
    {
     "name": "stdout",
     "output_type": "stream",
     "text": [
      "CPU times: user 1.37 s, sys: 2.87 ms, total: 1.38 s\n",
      "Wall time: 485 ms\n"
     ]
    }
   ],
   "source": [
    "%%time\n",
    "# Set values for various parameters\n",
    "num_features = 2000    # Word vector dimensionality\n",
    "min_word_count = 3    # Minimum word count\n",
    "num_workers = 4       # Number of threads to run in parallel\n",
    "context = 6           # Context window size\n",
    "downsampling = 1e-3   # Downsample setting for frequent words\n",
    "\n",
    "# Initialize and train the model\n",
    "W2Vmodel = Word2Vec(sentences=sentences,\n",
    "                    sg=1,\n",
    "                    hs=0,\n",
    "                    workers=num_workers,\n",
    "                    size=num_features,\n",
    "                    min_count=min_word_count,\n",
    "                    window=context,\n",
    "                    sample=downsampling,\n",
    "                    negative=5,\n",
    "                    iter=6)"
   ]
  },
  {
   "cell_type": "code",
   "execution_count": 105,
   "metadata": {},
   "outputs": [],
   "source": [
    "def get_w2v_features(w2v_model, sentence_group):\n",
    "    \"\"\" Transform a sentence_group (containing multiple lists\n",
    "    of words) into a feature vector. It averages out all the\n",
    "    word vectors of the sentence_group.\n",
    "    \"\"\"\n",
    "    words = np.concatenate(sentence_group)  # words in text\n",
    "    index2word_set = set(w2v_model.wv.vocab.keys())  # words known to model\n",
    "    \n",
    "    featureVec = np.zeros(w2v_model.vector_size, dtype=\"float32\")\n",
    "    \n",
    "    # Initialize a counter for number of words in a review\n",
    "    nwords = 0\n",
    "    # Loop over each word in the comment and, if it is in the model's vocabulary, add its feature vector to the total\n",
    "    for word in words:\n",
    "        if word in index2word_set: \n",
    "            featureVec = np.add(featureVec, w2v_model[word])\n",
    "            nwords += 1.\n",
    "\n",
    "    # Divide the result by the number of words to get the average\n",
    "    if nwords > 0:\n",
    "        featureVec = np.divide(featureVec, nwords)\n",
    "    return featureVec\n",
    "\n",
    "df['w2v_features'] = list(map(lambda sen_group:\n",
    "                                      get_w2v_features(W2Vmodel, sen_group),\n",
    "                                      df.tokenized_sentences))"
   ]
  },
  {
   "cell_type": "code",
   "execution_count": 106,
   "metadata": {},
   "outputs": [
    {
     "data": {
      "text/html": [
       "<div>\n",
       "<style>\n",
       "    .dataframe thead tr:only-child th {\n",
       "        text-align: right;\n",
       "    }\n",
       "\n",
       "    .dataframe thead th {\n",
       "        text-align: left;\n",
       "    }\n",
       "\n",
       "    .dataframe tbody tr th {\n",
       "        vertical-align: top;\n",
       "    }\n",
       "</style>\n",
       "<table border=\"1\" class=\"dataframe\">\n",
       "  <thead>\n",
       "    <tr style=\"text-align: right;\">\n",
       "      <th></th>\n",
       "      <th>Comments</th>\n",
       "      <th>Nostalgic</th>\n",
       "      <th>only_letter</th>\n",
       "      <th>Tweet</th>\n",
       "      <th>document_sentences</th>\n",
       "      <th>tokenized_sentences</th>\n",
       "      <th>tokenized_text</th>\n",
       "      <th>stopwords_removed</th>\n",
       "      <th>lemmatized_text</th>\n",
       "      <th>stemmed_text</th>\n",
       "      <th>bow</th>\n",
       "      <th>lda_features</th>\n",
       "      <th>w2v_features</th>\n",
       "    </tr>\n",
       "  </thead>\n",
       "  <tbody>\n",
       "    <tr>\n",
       "      <th>0</th>\n",
       "      <td>.one of the many reasons i keep coming back to...</td>\n",
       "      <td>Yes</td>\n",
       "      <td>one many reasons keep coming back video remind...</td>\n",
       "      <td>.one of the many reasons i keep coming back to...</td>\n",
       "      <td>[, One of the many reasons I keep coming back ...</td>\n",
       "      <td>[[One, of, the, many, reasons, I, keep, coming...</td>\n",
       "      <td>[one, of, the, many, reasons, i, keep, coming,...</td>\n",
       "      <td>[one, many, reasons, keep, coming, back, video...</td>\n",
       "      <td>[one, many, reason, keep, coming, back, video,...</td>\n",
       "      <td>[one, mani, reason, keep, come, back, video, r...</td>\n",
       "      <td>[(0, 1), (1, 1), (2, 1), (3, 1), (4, 1), (5, 1...</td>\n",
       "      <td>[0.00183170773131, 0.00169343901476, 0.0015745...</td>\n",
       "      <td>[-0.0245331, -0.0112105, -0.00601321, 0.019957...</td>\n",
       "    </tr>\n",
       "    <tr>\n",
       "      <th>1</th>\n",
       "      <td>.best song ever made</td>\n",
       "      <td>No</td>\n",
       "      <td>best song ever made</td>\n",
       "      <td>.best song ever made</td>\n",
       "      <td>[, Best song ever made]</td>\n",
       "      <td>[[Best, song, ever, made]]</td>\n",
       "      <td>[best, song, ever, made]</td>\n",
       "      <td>[best, song, ever, made]</td>\n",
       "      <td>[best, song, ever, made]</td>\n",
       "      <td>[best, song, ever, made]</td>\n",
       "      <td>[(11, 1), (13, 1), (14, 1), (15, 1)]</td>\n",
       "      <td>[0.00622780628646, 0.00575769265017, 0.0053535...</td>\n",
       "      <td>[-0.0251674, -0.0113868, -0.00620116, 0.020289...</td>\n",
       "    </tr>\n",
       "    <tr>\n",
       "      <th>2</th>\n",
       "      <td>.quite possibly the grooviest chick i've ever ...</td>\n",
       "      <td>No</td>\n",
       "      <td>quite possibly grooviest chick ever seen entir...</td>\n",
       "      <td>.quite possibly the grooviest chick i've ever ...</td>\n",
       "      <td>[, quite possibly the grooviest chick i've eve...</td>\n",
       "      <td>[[quite, possibly, the, grooviest, chick, i, v...</td>\n",
       "      <td>[quite, possibly, the, grooviest, chick, i, ve...</td>\n",
       "      <td>[quite, possibly, grooviest, chick, ever, seen...</td>\n",
       "      <td>[quite, possibly, grooviest, chick, ever, seen...</td>\n",
       "      <td>[quit, possibl, grooviest, chick, ever, seen, ...</td>\n",
       "      <td>[(14, 1), (16, 1), (17, 1), (18, 1), (19, 1)]</td>\n",
       "      <td>[0.00518983857205, 0.00479807720848, 0.5277902...</td>\n",
       "      <td>[-0.0258062, -0.0117313, -0.00639015, 0.020796...</td>\n",
       "    </tr>\n",
       "    <tr>\n",
       "      <th>3</th>\n",
       "      <td>.if only had a timemachine get the hell out th...</td>\n",
       "      <td>Yes</td>\n",
       "      <td>timemachine get hell era go back one grewup</td>\n",
       "      <td>.if only had a timemachine get the hell out th...</td>\n",
       "      <td>[, If only had a timemachine get the hell out ...</td>\n",
       "      <td>[[If, only, had, a, timemachine, get, the, hel...</td>\n",
       "      <td>[if, only, had, a, timemachine, get, the, hell...</td>\n",
       "      <td>[timemachine, get, hell, era, go, back, one, g...</td>\n",
       "      <td>[timemachine, get, hell, era, go, back, one, g...</td>\n",
       "      <td>[timemachin, get, hell, era, go, back, one, gr...</td>\n",
       "      <td>[(0, 1), (4, 1), (20, 1), (21, 1), (22, 1)]</td>\n",
       "      <td>[0.00518983857205, 0.00479807720848, 0.0044613...</td>\n",
       "      <td>[-0.0258184, -0.0118119, -0.00628909, 0.020828...</td>\n",
       "    </tr>\n",
       "    <tr>\n",
       "      <th>4</th>\n",
       "      <td>.i wish i could time machine my head between t...</td>\n",
       "      <td>Yes</td>\n",
       "      <td>wish could time machine head thighs love date</td>\n",
       "      <td>.i wish i could time machine my head between t...</td>\n",
       "      <td>[, I wish I could time machine my head between...</td>\n",
       "      <td>[[I, wish, I, could, time, machine, my, head, ...</td>\n",
       "      <td>[i, wish, i, could, time, machine, my, head, b...</td>\n",
       "      <td>[wish, could, time, machine, head, thighs, lov...</td>\n",
       "      <td>[wish, could, time, machine, head, thigh, love...</td>\n",
       "      <td>[wish, could, time, machin, head, thigh, love,...</td>\n",
       "      <td>[(7, 1), (23, 1), (24, 1), (25, 1), (26, 1)]</td>\n",
       "      <td>[0.00518983857205, 0.207970759123, 0.004461309...</td>\n",
       "      <td>[-0.0235909, -0.0108278, -0.00582244, 0.019086...</td>\n",
       "    </tr>\n",
       "  </tbody>\n",
       "</table>\n",
       "</div>"
      ],
      "text/plain": [
       "                                            Comments Nostalgic  \\\n",
       "0  .one of the many reasons i keep coming back to...       Yes   \n",
       "1                               .best song ever made        No   \n",
       "2  .quite possibly the grooviest chick i've ever ...        No   \n",
       "3  .if only had a timemachine get the hell out th...       Yes   \n",
       "4  .i wish i could time machine my head between t...       Yes   \n",
       "\n",
       "                                         only_letter  \\\n",
       "0  one many reasons keep coming back video remind...   \n",
       "1                                best song ever made   \n",
       "2  quite possibly grooviest chick ever seen entir...   \n",
       "3        timemachine get hell era go back one grewup   \n",
       "4      wish could time machine head thighs love date   \n",
       "\n",
       "                                               Tweet  \\\n",
       "0  .one of the many reasons i keep coming back to...   \n",
       "1                               .best song ever made   \n",
       "2  .quite possibly the grooviest chick i've ever ...   \n",
       "3  .if only had a timemachine get the hell out th...   \n",
       "4  .i wish i could time machine my head between t...   \n",
       "\n",
       "                                  document_sentences  \\\n",
       "0  [, One of the many reasons I keep coming back ...   \n",
       "1                            [, Best song ever made]   \n",
       "2  [, quite possibly the grooviest chick i've eve...   \n",
       "3  [, If only had a timemachine get the hell out ...   \n",
       "4  [, I wish I could time machine my head between...   \n",
       "\n",
       "                                 tokenized_sentences  \\\n",
       "0  [[One, of, the, many, reasons, I, keep, coming...   \n",
       "1                         [[Best, song, ever, made]]   \n",
       "2  [[quite, possibly, the, grooviest, chick, i, v...   \n",
       "3  [[If, only, had, a, timemachine, get, the, hel...   \n",
       "4  [[I, wish, I, could, time, machine, my, head, ...   \n",
       "\n",
       "                                      tokenized_text  \\\n",
       "0  [one, of, the, many, reasons, i, keep, coming,...   \n",
       "1                           [best, song, ever, made]   \n",
       "2  [quite, possibly, the, grooviest, chick, i, ve...   \n",
       "3  [if, only, had, a, timemachine, get, the, hell...   \n",
       "4  [i, wish, i, could, time, machine, my, head, b...   \n",
       "\n",
       "                                   stopwords_removed  \\\n",
       "0  [one, many, reasons, keep, coming, back, video...   \n",
       "1                           [best, song, ever, made]   \n",
       "2  [quite, possibly, grooviest, chick, ever, seen...   \n",
       "3  [timemachine, get, hell, era, go, back, one, g...   \n",
       "4  [wish, could, time, machine, head, thighs, lov...   \n",
       "\n",
       "                                     lemmatized_text  \\\n",
       "0  [one, many, reason, keep, coming, back, video,...   \n",
       "1                           [best, song, ever, made]   \n",
       "2  [quite, possibly, grooviest, chick, ever, seen...   \n",
       "3  [timemachine, get, hell, era, go, back, one, g...   \n",
       "4  [wish, could, time, machine, head, thigh, love...   \n",
       "\n",
       "                                        stemmed_text  \\\n",
       "0  [one, mani, reason, keep, come, back, video, r...   \n",
       "1                           [best, song, ever, made]   \n",
       "2  [quit, possibl, grooviest, chick, ever, seen, ...   \n",
       "3  [timemachin, get, hell, era, go, back, one, gr...   \n",
       "4  [wish, could, time, machin, head, thigh, love,...   \n",
       "\n",
       "                                                 bow  \\\n",
       "0  [(0, 1), (1, 1), (2, 1), (3, 1), (4, 1), (5, 1...   \n",
       "1               [(11, 1), (13, 1), (14, 1), (15, 1)]   \n",
       "2      [(14, 1), (16, 1), (17, 1), (18, 1), (19, 1)]   \n",
       "3        [(0, 1), (4, 1), (20, 1), (21, 1), (22, 1)]   \n",
       "4       [(7, 1), (23, 1), (24, 1), (25, 1), (26, 1)]   \n",
       "\n",
       "                                        lda_features  \\\n",
       "0  [0.00183170773131, 0.00169343901476, 0.0015745...   \n",
       "1  [0.00622780628646, 0.00575769265017, 0.0053535...   \n",
       "2  [0.00518983857205, 0.00479807720848, 0.5277902...   \n",
       "3  [0.00518983857205, 0.00479807720848, 0.0044613...   \n",
       "4  [0.00518983857205, 0.207970759123, 0.004461309...   \n",
       "\n",
       "                                        w2v_features  \n",
       "0  [-0.0245331, -0.0112105, -0.00601321, 0.019957...  \n",
       "1  [-0.0251674, -0.0113868, -0.00620116, 0.020289...  \n",
       "2  [-0.0258062, -0.0117313, -0.00639015, 0.020796...  \n",
       "3  [-0.0258184, -0.0118119, -0.00628909, 0.020828...  \n",
       "4  [-0.0235909, -0.0108278, -0.00582244, 0.019086...  "
      ]
     },
     "execution_count": 106,
     "metadata": {},
     "output_type": "execute_result"
    }
   ],
   "source": [
    "df.head()"
   ]
  },
  {
   "cell_type": "code",
   "execution_count": 107,
   "metadata": {},
   "outputs": [],
   "source": [
    "label_encoder = LabelEncoder()\n",
    "\n",
    "label_encoder.fit(df.Nostalgic)\n",
    "df['Nostalgic'] = label_encoder.transform(df.Nostalgic)"
   ]
  },
  {
   "cell_type": "code",
   "execution_count": 108,
   "metadata": {},
   "outputs": [],
   "source": [
    "# since train_data['lda_features'] and train_data['w2v_features'] don't have the needed shape and type yet,\n",
    "# we first have to transform every entry\n",
    "X_train_lda = np.array(list(map(np.array, df.lda_features)))\n",
    "X_train_w2v = np.array(list(map(np.array, df.w2v_features)))\n",
    "X_train_combined = np.append(X_train_lda, X_train_w2v, axis=1)\n",
    "\n",
    "#df['CombinedFeatures']  = X_train_combined"
   ]
  },
  {
   "cell_type": "code",
   "execution_count": 109,
   "metadata": {},
   "outputs": [],
   "source": [
    "def get_cross_validated_model(model, param_grid, X, y, nr_folds=5):\n",
    "    grid_cv = GridSearchCV(model, param_grid=param_grid, scoring='neg_log_loss', cv=nr_folds, n_jobs=-1, verbose=True)\n",
    "    best_model = grid_cv.fit(X, y)\n",
    "    result_df = pd.DataFrame(best_model.cv_results_)\n",
    "    show_columns = ['mean_test_score', 'mean_train_score', 'rank_test_score']\n",
    "    for col in result_df.columns:\n",
    "        if col.startswith('param_'):\n",
    "            show_columns.append(col)\n",
    "    display(result_df[show_columns].sort_values(by='rank_test_score').head())\n",
    "    return best_model"
   ]
  },
  {
   "cell_type": "code",
   "execution_count": 110,
   "metadata": {},
   "outputs": [],
   "source": [
    "# store all models in a dictionary\n",
    "models = dict()"
   ]
  },
  {
   "cell_type": "code",
   "execution_count": 111,
   "metadata": {},
   "outputs": [
    {
     "name": "stdout",
     "output_type": "stream",
     "text": [
      "Fitting 5 folds for each of 2 candidates, totalling 10 fits\n"
     ]
    },
    {
     "name": "stderr",
     "output_type": "stream",
     "text": [
      "[Parallel(n_jobs=-1)]: Done  10 out of  10 | elapsed:    0.7s finished\n"
     ]
    },
    {
     "data": {
      "text/html": [
       "<div>\n",
       "<style>\n",
       "    .dataframe thead tr:only-child th {\n",
       "        text-align: right;\n",
       "    }\n",
       "\n",
       "    .dataframe thead th {\n",
       "        text-align: left;\n",
       "    }\n",
       "\n",
       "    .dataframe tbody tr th {\n",
       "        vertical-align: top;\n",
       "    }\n",
       "</style>\n",
       "<table border=\"1\" class=\"dataframe\">\n",
       "  <thead>\n",
       "    <tr style=\"text-align: right;\">\n",
       "      <th></th>\n",
       "      <th>mean_test_score</th>\n",
       "      <th>mean_train_score</th>\n",
       "      <th>rank_test_score</th>\n",
       "      <th>param_penalty</th>\n",
       "    </tr>\n",
       "  </thead>\n",
       "  <tbody>\n",
       "    <tr>\n",
       "      <th>0</th>\n",
       "      <td>-0.665660</td>\n",
       "      <td>-0.630238</td>\n",
       "      <td>1</td>\n",
       "      <td>l1</td>\n",
       "    </tr>\n",
       "    <tr>\n",
       "      <th>1</th>\n",
       "      <td>-0.688383</td>\n",
       "      <td>-0.599444</td>\n",
       "      <td>2</td>\n",
       "      <td>l2</td>\n",
       "    </tr>\n",
       "  </tbody>\n",
       "</table>\n",
       "</div>"
      ],
      "text/plain": [
       "   mean_test_score  mean_train_score  rank_test_score param_penalty\n",
       "0        -0.665660         -0.630238                1            l1\n",
       "1        -0.688383         -0.599444                2            l2"
      ]
     },
     "metadata": {},
     "output_type": "display_data"
    }
   ],
   "source": [
    "# LDA and Word2Vec combined\n",
    "lr = LogisticRegression()\n",
    "\n",
    "param_grid = {'penalty': ['l1', 'l2']}\n",
    "\n",
    "best_lr_combined = get_cross_validated_model(lr, param_grid, X_train_combined, df.Nostalgic)\n",
    "\n",
    "models['best_lr_combined'] = best_lr_combined"
   ]
  },
  {
   "cell_type": "code",
   "execution_count": 112,
   "metadata": {},
   "outputs": [
    {
     "name": "stdout",
     "output_type": "stream",
     "text": [
      "Fitting 5 folds for each of 4 candidates, totalling 20 fits\n"
     ]
    },
    {
     "name": "stderr",
     "output_type": "stream",
     "text": [
      "[Parallel(n_jobs=-1)]: Done  20 out of  20 | elapsed:    4.1s finished\n"
     ]
    },
    {
     "data": {
      "text/html": [
       "<div>\n",
       "<style>\n",
       "    .dataframe thead tr:only-child th {\n",
       "        text-align: right;\n",
       "    }\n",
       "\n",
       "    .dataframe thead th {\n",
       "        text-align: left;\n",
       "    }\n",
       "\n",
       "    .dataframe tbody tr th {\n",
       "        vertical-align: top;\n",
       "    }\n",
       "</style>\n",
       "<table border=\"1\" class=\"dataframe\">\n",
       "  <thead>\n",
       "    <tr style=\"text-align: right;\">\n",
       "      <th></th>\n",
       "      <th>mean_test_score</th>\n",
       "      <th>mean_train_score</th>\n",
       "      <th>rank_test_score</th>\n",
       "      <th>param_C</th>\n",
       "    </tr>\n",
       "  </thead>\n",
       "  <tbody>\n",
       "    <tr>\n",
       "      <th>3</th>\n",
       "      <td>-0.675949</td>\n",
       "      <td>-0.666185</td>\n",
       "      <td>1</td>\n",
       "      <td>1000</td>\n",
       "    </tr>\n",
       "    <tr>\n",
       "      <th>2</th>\n",
       "      <td>-0.678875</td>\n",
       "      <td>-0.687309</td>\n",
       "      <td>2</td>\n",
       "      <td>100</td>\n",
       "    </tr>\n",
       "    <tr>\n",
       "      <th>1</th>\n",
       "      <td>-0.679298</td>\n",
       "      <td>-0.684918</td>\n",
       "      <td>3</td>\n",
       "      <td>10</td>\n",
       "    </tr>\n",
       "    <tr>\n",
       "      <th>0</th>\n",
       "      <td>-0.681096</td>\n",
       "      <td>-0.683935</td>\n",
       "      <td>4</td>\n",
       "      <td>1</td>\n",
       "    </tr>\n",
       "  </tbody>\n",
       "</table>\n",
       "</div>"
      ],
      "text/plain": [
       "   mean_test_score  mean_train_score  rank_test_score param_C\n",
       "3        -0.675949         -0.666185                1    1000\n",
       "2        -0.678875         -0.687309                2     100\n",
       "1        -0.679298         -0.684918                3      10\n",
       "0        -0.681096         -0.683935                4       1"
      ]
     },
     "metadata": {},
     "output_type": "display_data"
    }
   ],
   "source": [
    "# Word2Vec features only\n",
    "from sklearn.svm import SVC\n",
    "svm = SVC(probability=True)\n",
    "param_grid = {'C': [1, 10, 100, 1000]}\n",
    "\n",
    "best_svm_combined = get_cross_validated_model(svm, param_grid, X_train_combined, df.Nostalgic)\n",
    "\n",
    "models['best_svm_combined'] = best_svm_combined"
   ]
  },
  {
   "cell_type": "code",
   "execution_count": 122,
   "metadata": {},
   "outputs": [
    {
     "name": "stdout",
     "output_type": "stream",
     "text": [
      "Fitting 5 folds for each of 1 candidates, totalling 5 fits\n"
     ]
    },
    {
     "name": "stderr",
     "output_type": "stream",
     "text": [
      "[Parallel(n_jobs=-1)]: Done   5 out of   5 | elapsed:    0.1s finished\n"
     ]
    },
    {
     "data": {
      "text/html": [
       "<div>\n",
       "<style>\n",
       "    .dataframe thead tr:only-child th {\n",
       "        text-align: right;\n",
       "    }\n",
       "\n",
       "    .dataframe thead th {\n",
       "        text-align: left;\n",
       "    }\n",
       "\n",
       "    .dataframe tbody tr th {\n",
       "        vertical-align: top;\n",
       "    }\n",
       "</style>\n",
       "<table border=\"1\" class=\"dataframe\">\n",
       "  <thead>\n",
       "    <tr style=\"text-align: right;\">\n",
       "      <th></th>\n",
       "      <th>mean_test_score</th>\n",
       "      <th>mean_train_score</th>\n",
       "      <th>rank_test_score</th>\n",
       "    </tr>\n",
       "  </thead>\n",
       "  <tbody>\n",
       "    <tr>\n",
       "      <th>0</th>\n",
       "      <td>-15.409608</td>\n",
       "      <td>-11.881147</td>\n",
       "      <td>1</td>\n",
       "    </tr>\n",
       "  </tbody>\n",
       "</table>\n",
       "</div>"
      ],
      "text/plain": [
       "   mean_test_score  mean_train_score  rank_test_score\n",
       "0       -15.409608        -11.881147                1"
      ]
     },
     "metadata": {},
     "output_type": "display_data"
    }
   ],
   "source": [
    "from sklearn.naive_bayes import GaussianNB\n",
    "gnb = GaussianNB()\n",
    "\n",
    "param_grid = {}\n",
    "\n",
    "best_gnb_combined = get_cross_validated_model(gnb, param_grid, X_train_combined, df.Nostalgic)\n",
    "\n",
    "models['best_gnb_combined'] = best_gnb_combined\n"
   ]
  },
  {
   "cell_type": "code",
   "execution_count": 123,
   "metadata": {},
   "outputs": [
    {
     "name": "stdout",
     "output_type": "stream",
     "text": [
      "Model best_lr_combined has a test score of: -0.6657\n",
      "Model best_svm_combined has a test score of: -0.6759\n",
      "Model best_gnb_combined has a test score of: -15.4096\n"
     ]
    }
   ],
   "source": [
    "for name, model in models.items():\n",
    "    print(\"Model {} has a test score of: {:0.4f}\".format(name, float(model.best_score_)))"
   ]
  },
  {
   "cell_type": "code",
   "execution_count": 124,
   "metadata": {},
   "outputs": [],
   "source": [
    "TestData = pd.read_csv(\"/home/ajadhav/Nostalgic/YoutubeComments2.csv\",usecols=['Comments','Nostalgic'],encoding='latin-1')\n",
    "TestData = TestData.dropna(subset=['Nostalgic'], how='all')"
   ]
  },
  {
   "cell_type": "code",
   "execution_count": 125,
   "metadata": {},
   "outputs": [
    {
     "data": {
      "text/html": [
       "<div>\n",
       "<style>\n",
       "    .dataframe thead tr:only-child th {\n",
       "        text-align: right;\n",
       "    }\n",
       "\n",
       "    .dataframe thead th {\n",
       "        text-align: left;\n",
       "    }\n",
       "\n",
       "    .dataframe tbody tr th {\n",
       "        vertical-align: top;\n",
       "    }\n",
       "</style>\n",
       "<table border=\"1\" class=\"dataframe\">\n",
       "  <thead>\n",
       "    <tr style=\"text-align: right;\">\n",
       "      <th></th>\n",
       "      <th>Comments</th>\n",
       "      <th>Nostalgic</th>\n",
       "    </tr>\n",
       "  </thead>\n",
       "  <tbody>\n",
       "    <tr>\n",
       "      <th>0</th>\n",
       "      <td>He was great why does everything need to be ab...</td>\n",
       "      <td>No</td>\n",
       "    </tr>\n",
       "    <tr>\n",
       "      <th>1</th>\n",
       "      <td>truly you are the wonder of you, thanks elvis ...</td>\n",
       "      <td>Yes</td>\n",
       "    </tr>\n",
       "    <tr>\n",
       "      <th>2</th>\n",
       "      <td>Oldies are my favorite. Timeless, classic, swe...</td>\n",
       "      <td>No</td>\n",
       "    </tr>\n",
       "    <tr>\n",
       "      <th>3</th>\n",
       "      <td>Love this era of music proper musicians</td>\n",
       "      <td>No</td>\n",
       "    </tr>\n",
       "    <tr>\n",
       "      <th>4</th>\n",
       "      <td>as a rnb and hiphop lover from 90'still now, m...</td>\n",
       "      <td>No</td>\n",
       "    </tr>\n",
       "  </tbody>\n",
       "</table>\n",
       "</div>"
      ],
      "text/plain": [
       "                                            Comments Nostalgic\n",
       "0  He was great why does everything need to be ab...        No\n",
       "1  truly you are the wonder of you, thanks elvis ...       Yes\n",
       "2  Oldies are my favorite. Timeless, classic, swe...        No\n",
       "3            Love this era of music proper musicians        No\n",
       "4  as a rnb and hiphop lover from 90'still now, m...        No"
      ]
     },
     "execution_count": 125,
     "metadata": {},
     "output_type": "execute_result"
    }
   ],
   "source": [
    "TestData.head()"
   ]
  },
  {
   "cell_type": "code",
   "execution_count": 126,
   "metadata": {},
   "outputs": [],
   "source": [
    "lda_preprocessing(TestData)\n",
    "w2v_preprocessing(TestData)"
   ]
  },
  {
   "cell_type": "code",
   "execution_count": 127,
   "metadata": {},
   "outputs": [],
   "source": [
    "TestData['lda_features'] = list(map(lambda doc:\n",
    "                                     document_to_lda_features(LDAmodel, doc),\n",
    "                                     TestData.bow))\n",
    "\n",
    "TestData['w2v_features'] = list(map(lambda sen_group:\n",
    "                                     get_w2v_features(W2Vmodel, sen_group),\n",
    "                                     TestData.tokenized_sentences))"
   ]
  },
  {
   "cell_type": "code",
   "execution_count": 128,
   "metadata": {},
   "outputs": [],
   "source": [
    "X_test_lda = np.array(list(map(np.array, TestData.lda_features)))\n",
    "X_test_w2v = np.array(list(map(np.array, TestData.w2v_features)))\n",
    "X_test_combined = np.append(X_test_lda, X_test_w2v, axis=1)"
   ]
  },
  {
   "cell_type": "code",
   "execution_count": 129,
   "metadata": {},
   "outputs": [],
   "source": [
    "#best_lr_combined.predict_proba(X_test_combined)[:,1]>0.5\n",
    "\n",
    "Prediction = np.where(best_lr_combined.predict_proba(X_test_combined)[:,1]>=0.65, 'Yes', 'No')"
   ]
  },
  {
   "cell_type": "code",
   "execution_count": 130,
   "metadata": {},
   "outputs": [
    {
     "data": {
      "text/plain": [
       "array([[291,   3],\n",
       "       [ 98,  49]])"
      ]
     },
     "execution_count": 130,
     "metadata": {},
     "output_type": "execute_result"
    }
   ],
   "source": [
    "from sklearn.metrics import confusion_matrix\n",
    "confusion_matrix(TestData.Nostalgic, Prediction)"
   ]
  },
  {
   "cell_type": "code",
   "execution_count": 131,
   "metadata": {},
   "outputs": [
    {
     "name": "stdout",
     "output_type": "stream",
     "text": [
      "             precision    recall  f1-score   support\n",
      "\n",
      "         No       0.75      0.99      0.85       294\n",
      "        Yes       0.94      0.33      0.49       147\n",
      "\n",
      "avg / total       0.81      0.77      0.73       441\n",
      "\n"
     ]
    }
   ],
   "source": [
    "from sklearn.metrics import classification_report\n",
    "print(classification_report(TestData.Nostalgic, Prediction))"
   ]
  },
  {
   "cell_type": "code",
   "execution_count": null,
   "metadata": {},
   "outputs": [],
   "source": []
  }
 ],
 "metadata": {
  "kernelspec": {
   "display_name": "Python 3",
   "language": "python",
   "name": "python3"
  },
  "language_info": {
   "codemirror_mode": {
    "name": "ipython",
    "version": 3
   },
   "file_extension": ".py",
   "mimetype": "text/x-python",
   "name": "python",
   "nbconvert_exporter": "python",
   "pygments_lexer": "ipython3",
   "version": "3.6.3"
  }
 },
 "nbformat": 4,
 "nbformat_minor": 2
}
